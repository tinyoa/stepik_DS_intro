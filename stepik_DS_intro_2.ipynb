{
 "cells": [
  {
   "cell_type": "markdown",
   "metadata": {},
   "source": [
    "# 2  Решающие деревья\n",
    "\n",
    "Решающие деревья (descision treeы)\n"
   ]
  },
  {
   "cell_type": "code",
   "execution_count": null,
   "metadata": {
    "collapsed": true
   },
   "outputs": [],
   "source": []
  },
  {
   "cell_type": "markdown",
   "metadata": {},
   "source": [
    "#### 2.1.4 Какого музыканта Beatles я загадал или entropy reduction\n",
    "\n",
    "Небольшая ремарка о том, как получить представление данных в виде точек в пространстве.\n",
    "\n",
    "Представьте, что у вас есть маленький датафрэйм с 2-мя характеристиками цветов и их видом (который мы потом будем предсказывать, то есть это целевая переменная)\n",
    "\n",
    "petal_length    petal_width    species\n",
    "1.4             0.2            0\n",
    "4.5             1.5            1\n",
    "5.1             1.9            2\n",
    "\n",
    "Теперь просто возьмём каждое наблюдение из датасэта и поместим его в пространство, где будет 2 оси, соответствующие фичам - petal length и petal width. 1 точка в пространстве - 1 наблюдение из датафрэйма, у которого положение в пространстве определяется значениями petal length и petal width. Получится следующая картина (цвета соответствуют виду цветка)\n"
   ]
  },
  {
   "cell_type": "markdown",
   "metadata": {},
   "source": [
    "Такая репрезентация бывает очень удобной для представления работы моделей. Точно так же строится и в случае большего числа фичей - просто увеличивается число осей и пространство становится многомерным.\n",
    "\n",
    "В случае определения являются ли письма спамом или нет, исходные данные представляют собой текст. Его так просто не запихнёшь в большинство моделей и для представления датасэта как множества точек нужны предварительные преобразования. Как вариант - посчитать число букв и число восклицательных знаков в каждом письме и уже на основании этих данных произвести визуализацию"
   ]
  },
  {
   "cell_type": "markdown",
   "metadata": {},
   "source": [
    "Комментарии\n",
    "\n",
    "Anonymous 53246858\n",
    "Плохо представляю себе многомерное пространство в случае большого кол-ва фичей. Можно пример?\n",
    "\n",
    "\n",
    "Филипп Филиппак\n",
    "@Anonymous_53246858, можно рассмотреть это так. У вас есть n-мерное пространство фичей, а каждый вопрос решающего дерева — это подпространство мерности n-1. То есть: если фича одна, то её значения — на прямой (одномерное пространство), а разделяющее подпространство — точка (нульмерное пространство). Дальше, если две фичи, то наблюдения лежат на плоскости, а разделяющее подпространство — одномерное — это прямая.\n",
    "\n",
    "Вообще, такое разделяющее пространство мерности n-1 зовётся гиперплоскостью. Итак, для трёхмерного пространства фичей (например, мы можем классифицировать что-то по цвету, размеру и весу) гиперплоскостью будет плоскость. Четырёхмерное пространство сложно представить визуально, но концепция та же: есть пространство с четырьмя измерениями, а трёхмерная гиперплоскость его делит. И так далее для больших размерностей.\n",
    "\n",
    "Могу порекомендовать вот это — http://hi.gher.space/classic/introduction.htm — чтение для лучшего понимания многомерных пространств в общем случае."
   ]
  },
  {
   "cell_type": "code",
   "execution_count": null,
   "metadata": {
    "collapsed": true
   },
   "outputs": [],
   "source": []
  },
  {
   "cell_type": "code",
   "execution_count": null,
   "metadata": {
    "collapsed": true
   },
   "outputs": [],
   "source": [
    "# 2.1.6 Какого музыканта Beatles я загадал или entropy reduction\n"
   ]
  },
  {
   "cell_type": "code",
   "execution_count": 1,
   "metadata": {
    "collapsed": true
   },
   "outputs": [],
   "source": [
    "from sklearn import tree\n",
    "import pandas as pd\n",
    "import matplotlib.pyplot as plt\n",
    "import seaborn as sns\n",
    "%matplotlib inline"
   ]
  },
  {
   "cell_type": "code",
   "execution_count": null,
   "metadata": {
    "collapsed": true
   },
   "outputs": [],
   "source": []
  },
  {
   "cell_type": "code",
   "execution_count": 2,
   "metadata": {
    "collapsed": true
   },
   "outputs": [],
   "source": [
    "#data = pd.read_csv('example_data.csv')\n",
    "data = pd.DataFrame({'X_1': [1, 1, 1, 0, 0, 0, 0, 1], 'X_2': [0, 0, 0, 1, 0, 0, 0, 1], 'Y': [1, 1, 1, 1, 0, 0, 0, 0]})\n"
   ]
  },
  {
   "cell_type": "code",
   "execution_count": 3,
   "metadata": {},
   "outputs": [
    {
     "data": {
      "text/html": [
       "<div>\n",
       "<style scoped>\n",
       "    .dataframe tbody tr th:only-of-type {\n",
       "        vertical-align: middle;\n",
       "    }\n",
       "\n",
       "    .dataframe tbody tr th {\n",
       "        vertical-align: top;\n",
       "    }\n",
       "\n",
       "    .dataframe thead th {\n",
       "        text-align: right;\n",
       "    }\n",
       "</style>\n",
       "<table border=\"1\" class=\"dataframe\">\n",
       "  <thead>\n",
       "    <tr style=\"text-align: right;\">\n",
       "      <th></th>\n",
       "      <th>X_1</th>\n",
       "      <th>X_2</th>\n",
       "      <th>Y</th>\n",
       "    </tr>\n",
       "  </thead>\n",
       "  <tbody>\n",
       "    <tr>\n",
       "      <th>0</th>\n",
       "      <td>1</td>\n",
       "      <td>0</td>\n",
       "      <td>1</td>\n",
       "    </tr>\n",
       "    <tr>\n",
       "      <th>1</th>\n",
       "      <td>1</td>\n",
       "      <td>0</td>\n",
       "      <td>1</td>\n",
       "    </tr>\n",
       "    <tr>\n",
       "      <th>2</th>\n",
       "      <td>1</td>\n",
       "      <td>0</td>\n",
       "      <td>1</td>\n",
       "    </tr>\n",
       "    <tr>\n",
       "      <th>3</th>\n",
       "      <td>0</td>\n",
       "      <td>1</td>\n",
       "      <td>1</td>\n",
       "    </tr>\n",
       "    <tr>\n",
       "      <th>4</th>\n",
       "      <td>0</td>\n",
       "      <td>0</td>\n",
       "      <td>0</td>\n",
       "    </tr>\n",
       "    <tr>\n",
       "      <th>5</th>\n",
       "      <td>0</td>\n",
       "      <td>0</td>\n",
       "      <td>0</td>\n",
       "    </tr>\n",
       "    <tr>\n",
       "      <th>6</th>\n",
       "      <td>0</td>\n",
       "      <td>0</td>\n",
       "      <td>0</td>\n",
       "    </tr>\n",
       "    <tr>\n",
       "      <th>7</th>\n",
       "      <td>1</td>\n",
       "      <td>1</td>\n",
       "      <td>0</td>\n",
       "    </tr>\n",
       "  </tbody>\n",
       "</table>\n",
       "</div>"
      ],
      "text/plain": [
       "   X_1  X_2  Y\n",
       "0    1    0  1\n",
       "1    1    0  1\n",
       "2    1    0  1\n",
       "3    0    1  1\n",
       "4    0    0  0\n",
       "5    0    0  0\n",
       "6    0    0  0\n",
       "7    1    1  0"
      ]
     },
     "execution_count": 3,
     "metadata": {},
     "output_type": "execute_result"
    }
   ],
   "source": [
    "data"
   ]
  },
  {
   "cell_type": "markdown",
   "metadata": {},
   "source": [
    "Задача: научиться на основании переменных X_1, X_2 предсказывать значение Y"
   ]
  },
  {
   "cell_type": "code",
   "execution_count": 4,
   "metadata": {
    "collapsed": true
   },
   "outputs": [],
   "source": [
    "clf = tree.DecisionTreeClassifier()"
   ]
  },
  {
   "cell_type": "code",
   "execution_count": 5,
   "metadata": {},
   "outputs": [
    {
     "data": {
      "text/plain": [
       "DecisionTreeClassifier(class_weight=None, criterion='gini', max_depth=None,\n",
       "            max_features=None, max_leaf_nodes=None,\n",
       "            min_impurity_decrease=0.0, min_impurity_split=None,\n",
       "            min_samples_leaf=1, min_samples_split=2,\n",
       "            min_weight_fraction_leaf=0.0, presort=False, random_state=None,\n",
       "            splitter='best')"
      ]
     },
     "execution_count": 5,
     "metadata": {},
     "output_type": "execute_result"
    }
   ],
   "source": [
    "clf"
   ]
  },
  {
   "cell_type": "code",
   "execution_count": 6,
   "metadata": {
    "collapsed": true
   },
   "outputs": [],
   "source": [
    "#\n",
    "X = data[['X_1', 'X_2']]\n",
    "# \n",
    "y = data.Y"
   ]
  },
  {
   "cell_type": "code",
   "execution_count": 7,
   "metadata": {},
   "outputs": [
    {
     "data": {
      "text/plain": [
       "DecisionTreeClassifier(class_weight=None, criterion='gini', max_depth=None,\n",
       "            max_features=None, max_leaf_nodes=None,\n",
       "            min_impurity_decrease=0.0, min_impurity_split=None,\n",
       "            min_samples_leaf=1, min_samples_split=2,\n",
       "            min_weight_fraction_leaf=0.0, presort=False, random_state=None,\n",
       "            splitter='best')"
      ]
     },
     "execution_count": 7,
     "metadata": {},
     "output_type": "execute_result"
    }
   ],
   "source": [
    "# Обучение дерева решений\n",
    "clf.fit(X, y)"
   ]
  },
  {
   "cell_type": "markdown",
   "metadata": {},
   "source": [
    "Теперь попробуем вытащить знания, которые сформировало дерево решений.\n",
    "Самый простой способ понять - это визуализировать дерево"
   ]
  },
  {
   "cell_type": "code",
   "execution_count": 8,
   "metadata": {},
   "outputs": [
    {
     "ename": "ModuleNotFoundError",
     "evalue": "No module named 'graphviz'",
     "output_type": "error",
     "traceback": [
      "\u001b[1;31m---------------------------------------------------------------------------\u001b[0m",
      "\u001b[1;31mModuleNotFoundError\u001b[0m                       Traceback (most recent call last)",
      "\u001b[1;32m<ipython-input-8-3a427551f6a8>\u001b[0m in \u001b[0;36m<module>\u001b[1;34m\u001b[0m\n\u001b[0;32m      1\u001b[0m \u001b[1;32mfrom\u001b[0m \u001b[0mIPython\u001b[0m\u001b[1;33m.\u001b[0m\u001b[0mdisplay\u001b[0m \u001b[1;32mimport\u001b[0m \u001b[0mSVG\u001b[0m\u001b[1;33m\u001b[0m\u001b[1;33m\u001b[0m\u001b[0m\n\u001b[1;32m----> 2\u001b[1;33m \u001b[1;32mfrom\u001b[0m \u001b[0mgraphviz\u001b[0m \u001b[1;32mimport\u001b[0m \u001b[0mSource\u001b[0m\u001b[1;33m\u001b[0m\u001b[1;33m\u001b[0m\u001b[0m\n\u001b[0m\u001b[0;32m      3\u001b[0m \u001b[1;32mfrom\u001b[0m \u001b[0mIPython\u001b[0m\u001b[1;33m.\u001b[0m\u001b[0mdisplay\u001b[0m \u001b[1;32mimport\u001b[0m \u001b[0mdisplay\u001b[0m\u001b[1;33m\u001b[0m\u001b[1;33m\u001b[0m\u001b[0m\n",
      "\u001b[1;31mModuleNotFoundError\u001b[0m: No module named 'graphviz'"
     ]
    }
   ],
   "source": [
    "from IPython.display import SVG\n",
    "from graphviz import Source\n",
    "from IPython.display import display"
   ]
  },
  {
   "cell_type": "code",
   "execution_count": null,
   "metadata": {
    "collapsed": true
   },
   "outputs": [],
   "source": [
    "from IPython.display import HTML\n",
    "style = \"<style>svg{width:70% !important; height: 70% !important;}/<style>\"\n",
    "HTML(style)"
   ]
  },
  {
   "cell_type": "markdown",
   "metadata": {},
   "source": [
    "#### entropy reduction и Information gain\n",
    "\n",
    "1)\n",
    "$X_2 > \\frac{1}{2}$\n",
    "\n",
    "(-) xxx ooo\n",
    "(+) x   o\n",
    "\n",
    "2)\n",
    "$X_1 > \\frac{1}{2}$\n",
    "\n",
    "(-) x ooo\n",
    "(+) xxx o\n",
    "\n",
    "\n",
    "IG (information gain) - "
   ]
  },
  {
   "cell_type": "markdown",
   "metadata": {},
   "source": [
    "$$ E = - \\sum\\limits_{i=1}^n p_i \\cdot log_2(p_i) $$"
   ]
  },
  {
   "cell_type": "markdown",
   "metadata": {},
   "source": [
    "$ X\\_1 > \\frac{1}{2}$ \n",
    "\n",
    "$E = - \\frac{1}{4} \\cdot log_2(\\frac{1}{4}) - \\frac{3}{4} \\cdot log_2(\\frac{3}{4})$"
   ]
  },
  {
   "cell_type": "code",
   "execution_count": 10,
   "metadata": {
    "collapsed": true
   },
   "outputs": [],
   "source": [
    "import math"
   ]
  },
  {
   "cell_type": "code",
   "execution_count": 11,
   "metadata": {},
   "outputs": [
    {
     "name": "stdout",
     "output_type": "stream",
     "text": [
      "0.5\n",
      "0.31127812445913283\n",
      "0.8112781244591328\n"
     ]
    }
   ],
   "source": [
    "print(- 0.25 * math.log(0.25, 2))\n",
    "print(- 0.75 * math.log(0.75, 2))\n",
    "print(- 0.25 * math.log(0.25, 2) - 0.75 * math.log(0.75, 2))"
   ]
  },
  {
   "cell_type": "markdown",
   "metadata": {},
   "source": [
    "##### information gain \n",
    "\n",
    "Сколько информации мы выиграли. Это исходная полная энтропия E(Y) минус условная энтропия E(Y/X). Т.е. что у нас произошло с неопределенностью, после того, как мы учли значения некоторой переменной X.\n",
    "\n",
    "IG = E(Y) - E(Y/X)\n",
    "\n",
    "Сколько наблюдений было всего N и сколько получилось в выборках n_1 и n_2 после сплита. \n",
    "\n",
    "$E(Y/X) = \\frac{n_1}{N} \\cdot E_1 + \\frac{n_2}{N} \\cdot E_2)$\n",
    "\n",
    "\n",
    "Посчитаем, чему равен information gain в первом случае\n",
    "\n",
    "$IG = 1 - (\\frac{6}{8} \\cdot 1 + \\frac{2}{8} \\cdot 1) = 0$\n",
    "\n",
    "Посчитаем IG для второго примера\n",
    "\n",
    "$IG = 1 - (\\frac{4}{8} \\cdot 0.81 + \\frac{4}{8} \\cdot 0.81) = 1.19$\n",
    "\n",
    "Таким образом, делая разбитие по X_1 мы получи больше информации."
   ]
  },
  {
   "cell_type": "markdown",
   "metadata": {},
   "source": [
    "После разбития X_1 lелаем следующий сплит\n",
    "\n",
    "\n",
    "($X\\_2 > \\frac{1}{2}$)(-)\n",
    "(-) x\n",
    "(+) ooo \n",
    "\n",
    "($X\\_2 > \\frac{1}{2}$)(-)\n",
    "(-)\n",
    "(+)\n"
   ]
  },
  {
   "cell_type": "code",
   "execution_count": null,
   "metadata": {
    "collapsed": true
   },
   "outputs": [],
   "source": []
  },
  {
   "cell_type": "markdown",
   "metadata": {},
   "source": [
    "#### 2.2.6 \n",
    "\n",
    "Представьте, что вы решили научить робота для животных отличать собачек от котиков. Для начала проанализируем данные - отметьте все верные утверждения о данном датафрэйме\n"
   ]
  },
  {
   "cell_type": "code",
   "execution_count": 12,
   "metadata": {
    "collapsed": true
   },
   "outputs": [],
   "source": [
    "import pandas as pd"
   ]
  },
  {
   "cell_type": "code",
   "execution_count": 13,
   "metadata": {},
   "outputs": [
    {
     "data": {
      "text/html": [
       "<div>\n",
       "<style scoped>\n",
       "    .dataframe tbody tr th:only-of-type {\n",
       "        vertical-align: middle;\n",
       "    }\n",
       "\n",
       "    .dataframe tbody tr th {\n",
       "        vertical-align: top;\n",
       "    }\n",
       "\n",
       "    .dataframe thead th {\n",
       "        text-align: right;\n",
       "    }\n",
       "</style>\n",
       "<table border=\"1\" class=\"dataframe\">\n",
       "  <thead>\n",
       "    <tr style=\"text-align: right;\">\n",
       "      <th></th>\n",
       "      <th>Unnamed: 0</th>\n",
       "      <th>Шерстист</th>\n",
       "      <th>Гавкает</th>\n",
       "      <th>Лазает по деревьям</th>\n",
       "      <th>Вид</th>\n",
       "    </tr>\n",
       "  </thead>\n",
       "  <tbody>\n",
       "    <tr>\n",
       "      <th>0</th>\n",
       "      <td>0</td>\n",
       "      <td>1</td>\n",
       "      <td>1</td>\n",
       "      <td>0</td>\n",
       "      <td>собачка</td>\n",
       "    </tr>\n",
       "    <tr>\n",
       "      <th>1</th>\n",
       "      <td>1</td>\n",
       "      <td>1</td>\n",
       "      <td>1</td>\n",
       "      <td>0</td>\n",
       "      <td>собачка</td>\n",
       "    </tr>\n",
       "    <tr>\n",
       "      <th>2</th>\n",
       "      <td>2</td>\n",
       "      <td>1</td>\n",
       "      <td>1</td>\n",
       "      <td>0</td>\n",
       "      <td>собачка</td>\n",
       "    </tr>\n",
       "    <tr>\n",
       "      <th>3</th>\n",
       "      <td>3</td>\n",
       "      <td>1</td>\n",
       "      <td>1</td>\n",
       "      <td>0</td>\n",
       "      <td>собачка</td>\n",
       "    </tr>\n",
       "    <tr>\n",
       "      <th>4</th>\n",
       "      <td>4</td>\n",
       "      <td>1</td>\n",
       "      <td>0</td>\n",
       "      <td>1</td>\n",
       "      <td>котик</td>\n",
       "    </tr>\n",
       "    <tr>\n",
       "      <th>5</th>\n",
       "      <td>5</td>\n",
       "      <td>1</td>\n",
       "      <td>0</td>\n",
       "      <td>1</td>\n",
       "      <td>котик</td>\n",
       "    </tr>\n",
       "    <tr>\n",
       "      <th>6</th>\n",
       "      <td>6</td>\n",
       "      <td>1</td>\n",
       "      <td>0</td>\n",
       "      <td>1</td>\n",
       "      <td>котик</td>\n",
       "    </tr>\n",
       "    <tr>\n",
       "      <th>7</th>\n",
       "      <td>7</td>\n",
       "      <td>1</td>\n",
       "      <td>0</td>\n",
       "      <td>1</td>\n",
       "      <td>котик</td>\n",
       "    </tr>\n",
       "  </tbody>\n",
       "</table>\n",
       "</div>"
      ],
      "text/plain": [
       "   Unnamed: 0  Шерстист  Гавкает  Лазает по деревьям      Вид\n",
       "0           0         1        1                   0  собачка\n",
       "1           1         1        1                   0  собачка\n",
       "2           2         1        1                   0  собачка\n",
       "3           3         1        1                   0  собачка\n",
       "4           4         1        0                   1    котик\n",
       "5           5         1        0                   1    котик\n",
       "6           6         1        0                   1    котик\n",
       "7           7         1        0                   1    котик"
      ]
     },
     "execution_count": 13,
     "metadata": {},
     "output_type": "execute_result"
    }
   ],
   "source": [
    "dogs = pd.read_csv('https://stepik.org/media/attachments/course/4852/dogs.csv')\n",
    "dogs"
   ]
  },
  {
   "cell_type": "code",
   "execution_count": null,
   "metadata": {
    "collapsed": true
   },
   "outputs": [],
   "source": []
  },
  {
   "cell_type": "markdown",
   "metadata": {},
   "source": [
    "#### 2.2.7\n",
    "\n",
    "В нашем Big Data датасэте появились новые наблюдения! Давайте немного посчитаем энтропию, чтобы лучше понять, формализуемость разделения на группы.\n",
    "\n",
    "Формат записи - энтропия в группе, где переменная равна 0 и энтропия в группе, где переменная равна 1 (десятичный разделитель - точка, округляйте до 2-ого знака при необходимости).\n"
   ]
  },
  {
   "cell_type": "code",
   "execution_count": 14,
   "metadata": {
    "collapsed": true
   },
   "outputs": [],
   "source": [
    "import pandas as pd\n",
    "import math\n",
    "import numpy as np"
   ]
  },
  {
   "cell_type": "code",
   "execution_count": 15,
   "metadata": {},
   "outputs": [
    {
     "data": {
      "text/html": [
       "<div>\n",
       "<style scoped>\n",
       "    .dataframe tbody tr th:only-of-type {\n",
       "        vertical-align: middle;\n",
       "    }\n",
       "\n",
       "    .dataframe tbody tr th {\n",
       "        vertical-align: top;\n",
       "    }\n",
       "\n",
       "    .dataframe thead th {\n",
       "        text-align: right;\n",
       "    }\n",
       "</style>\n",
       "<table border=\"1\" class=\"dataframe\">\n",
       "  <thead>\n",
       "    <tr style=\"text-align: right;\">\n",
       "      <th></th>\n",
       "      <th>Шерстист</th>\n",
       "      <th>Гавкает</th>\n",
       "      <th>Лазает_по_деревьям</th>\n",
       "      <th>Вид</th>\n",
       "    </tr>\n",
       "  </thead>\n",
       "  <tbody>\n",
       "    <tr>\n",
       "      <th>0</th>\n",
       "      <td>1</td>\n",
       "      <td>1</td>\n",
       "      <td>0</td>\n",
       "      <td>собачка</td>\n",
       "    </tr>\n",
       "    <tr>\n",
       "      <th>1</th>\n",
       "      <td>1</td>\n",
       "      <td>1</td>\n",
       "      <td>0</td>\n",
       "      <td>собачка</td>\n",
       "    </tr>\n",
       "    <tr>\n",
       "      <th>2</th>\n",
       "      <td>1</td>\n",
       "      <td>1</td>\n",
       "      <td>0</td>\n",
       "      <td>собачка</td>\n",
       "    </tr>\n",
       "    <tr>\n",
       "      <th>3</th>\n",
       "      <td>1</td>\n",
       "      <td>1</td>\n",
       "      <td>0</td>\n",
       "      <td>собачка</td>\n",
       "    </tr>\n",
       "    <tr>\n",
       "      <th>4</th>\n",
       "      <td>1</td>\n",
       "      <td>0</td>\n",
       "      <td>1</td>\n",
       "      <td>котик</td>\n",
       "    </tr>\n",
       "    <tr>\n",
       "      <th>5</th>\n",
       "      <td>1</td>\n",
       "      <td>0</td>\n",
       "      <td>1</td>\n",
       "      <td>котик</td>\n",
       "    </tr>\n",
       "    <tr>\n",
       "      <th>6</th>\n",
       "      <td>1</td>\n",
       "      <td>0</td>\n",
       "      <td>1</td>\n",
       "      <td>котик</td>\n",
       "    </tr>\n",
       "    <tr>\n",
       "      <th>7</th>\n",
       "      <td>1</td>\n",
       "      <td>0</td>\n",
       "      <td>1</td>\n",
       "      <td>котик</td>\n",
       "    </tr>\n",
       "    <tr>\n",
       "      <th>8</th>\n",
       "      <td>1</td>\n",
       "      <td>1</td>\n",
       "      <td>1</td>\n",
       "      <td>котик</td>\n",
       "    </tr>\n",
       "    <tr>\n",
       "      <th>9</th>\n",
       "      <td>0</td>\n",
       "      <td>0</td>\n",
       "      <td>1</td>\n",
       "      <td>котик</td>\n",
       "    </tr>\n",
       "  </tbody>\n",
       "</table>\n",
       "</div>"
      ],
      "text/plain": [
       "   Шерстист  Гавкает  Лазает_по_деревьям      Вид\n",
       "0         1        1                   0  собачка\n",
       "1         1        1                   0  собачка\n",
       "2         1        1                   0  собачка\n",
       "3         1        1                   0  собачка\n",
       "4         1        0                   1    котик\n",
       "5         1        0                   1    котик\n",
       "6         1        0                   1    котик\n",
       "7         1        0                   1    котик\n",
       "8         1        1                   1    котик\n",
       "9         0        0                   1    котик"
      ]
     },
     "execution_count": 15,
     "metadata": {},
     "output_type": "execute_result"
    }
   ],
   "source": [
    "url = 'https://stepik.org/media/attachments/course/4852/cats.csv'\n",
    "cats = pd.read_csv(url, index_col = 0)\n",
    "cats.columns = [x.replace(\" \", \"_\") for x in cats.columns]\n",
    "cats"
   ]
  },
  {
   "cell_type": "code",
   "execution_count": 16,
   "metadata": {},
   "outputs": [
    {
     "data": {
      "text/html": [
       "<div>\n",
       "<style scoped>\n",
       "    .dataframe tbody tr th:only-of-type {\n",
       "        vertical-align: middle;\n",
       "    }\n",
       "\n",
       "    .dataframe tbody tr th {\n",
       "        vertical-align: top;\n",
       "    }\n",
       "\n",
       "    .dataframe thead th {\n",
       "        text-align: right;\n",
       "    }\n",
       "</style>\n",
       "<table border=\"1\" class=\"dataframe\">\n",
       "  <thead>\n",
       "    <tr style=\"text-align: right;\">\n",
       "      <th></th>\n",
       "      <th>Шерстист</th>\n",
       "      <th>Гавкает</th>\n",
       "      <th>Лазает_по_деревьям</th>\n",
       "      <th>Вид</th>\n",
       "    </tr>\n",
       "  </thead>\n",
       "  <tbody>\n",
       "    <tr>\n",
       "      <th>0</th>\n",
       "      <td>1</td>\n",
       "      <td>1</td>\n",
       "      <td>0</td>\n",
       "      <td>собачка</td>\n",
       "    </tr>\n",
       "    <tr>\n",
       "      <th>1</th>\n",
       "      <td>1</td>\n",
       "      <td>1</td>\n",
       "      <td>0</td>\n",
       "      <td>собачка</td>\n",
       "    </tr>\n",
       "    <tr>\n",
       "      <th>2</th>\n",
       "      <td>1</td>\n",
       "      <td>1</td>\n",
       "      <td>0</td>\n",
       "      <td>собачка</td>\n",
       "    </tr>\n",
       "    <tr>\n",
       "      <th>3</th>\n",
       "      <td>1</td>\n",
       "      <td>1</td>\n",
       "      <td>0</td>\n",
       "      <td>собачка</td>\n",
       "    </tr>\n",
       "    <tr>\n",
       "      <th>4</th>\n",
       "      <td>1</td>\n",
       "      <td>0</td>\n",
       "      <td>1</td>\n",
       "      <td>котик</td>\n",
       "    </tr>\n",
       "    <tr>\n",
       "      <th>5</th>\n",
       "      <td>1</td>\n",
       "      <td>0</td>\n",
       "      <td>1</td>\n",
       "      <td>котик</td>\n",
       "    </tr>\n",
       "    <tr>\n",
       "      <th>6</th>\n",
       "      <td>1</td>\n",
       "      <td>0</td>\n",
       "      <td>1</td>\n",
       "      <td>котик</td>\n",
       "    </tr>\n",
       "    <tr>\n",
       "      <th>7</th>\n",
       "      <td>1</td>\n",
       "      <td>0</td>\n",
       "      <td>1</td>\n",
       "      <td>котик</td>\n",
       "    </tr>\n",
       "    <tr>\n",
       "      <th>8</th>\n",
       "      <td>1</td>\n",
       "      <td>1</td>\n",
       "      <td>1</td>\n",
       "      <td>котик</td>\n",
       "    </tr>\n",
       "    <tr>\n",
       "      <th>9</th>\n",
       "      <td>0</td>\n",
       "      <td>0</td>\n",
       "      <td>1</td>\n",
       "      <td>котик</td>\n",
       "    </tr>\n",
       "  </tbody>\n",
       "</table>\n",
       "</div>"
      ],
      "text/plain": [
       "   Шерстист  Гавкает  Лазает_по_деревьям      Вид\n",
       "0         1        1                   0  собачка\n",
       "1         1        1                   0  собачка\n",
       "2         1        1                   0  собачка\n",
       "3         1        1                   0  собачка\n",
       "4         1        0                   1    котик\n",
       "5         1        0                   1    котик\n",
       "6         1        0                   1    котик\n",
       "7         1        0                   1    котик\n",
       "8         1        1                   1    котик\n",
       "9         0        0                   1    котик"
      ]
     },
     "execution_count": 16,
     "metadata": {},
     "output_type": "execute_result"
    }
   ],
   "source": [
    "df = cats\n",
    "df"
   ]
  },
  {
   "cell_type": "code",
   "execution_count": 17,
   "metadata": {},
   "outputs": [
    {
     "data": {
      "text/plain": [
       "-1.1699250014423124"
      ]
     },
     "execution_count": 17,
     "metadata": {},
     "output_type": "execute_result"
    }
   ],
   "source": [
    "np.log2(0.4444444444444444)"
   ]
  },
  {
   "cell_type": "code",
   "execution_count": 18,
   "metadata": {},
   "outputs": [
    {
     "data": {
      "text/plain": [
       "-1.1699250014423124"
      ]
     },
     "execution_count": 18,
     "metadata": {},
     "output_type": "execute_result"
    }
   ],
   "source": [
    "math.log(0.4444444444444444, 2)"
   ]
  },
  {
   "cell_type": "code",
   "execution_count": 19,
   "metadata": {
    "collapsed": true
   },
   "outputs": [],
   "source": [
    "def calc_entropy(df = pd.DataFrame(), x = '', y = ''):\n",
    "    y_unique = df[y].unique().tolist()    # Уникальные значения столбца y   \n",
    "    x_unique = df[x].unique().tolist()    # Уникальные значения столбца x\n",
    "    tot_cnt = len(df)\n",
    "    \n",
    "    E = 0\n",
    "    IG = 0 \n",
    "    for y_it in y_unique:\n",
    "        print('y_it: ', y_it)\n",
    "        sum_e = 0\n",
    "        for x_it in x_unique:\n",
    "            print('x_it: ', x_it)\n",
    "            x_it_cnt = len(df.loc[(df[x] == x_it)])        # Количество записей, где x = x_it\n",
    "            p = len(df.loc[(df[y] == y_it) & (df[x] == x_it)]) / x_it_cnt   # Вероятность исхода y_it при значении x = x_it\n",
    "            print('p: ', p)\n",
    "            if p != 0:\n",
    "                print('p * np.log2(p)', p * np.log2(p))\n",
    "                sum_e = sum_e + p * np.log2(p)\n",
    "                print('it_e: ', sum_e)\n",
    "        print('sum_e =', sum_e)\n",
    "        E = E - sum_e\n",
    "        IG = IG + x_it_cnt / tot_cnt * sum_e\n",
    "        print('sum_IG = ', IG)\n",
    "    print('E = ', E)\n",
    "    print('IG = ', 1 - IG)\n",
    "    \n",
    "    \n",
    "\n"
   ]
  },
  {
   "cell_type": "code",
   "execution_count": 20,
   "metadata": {},
   "outputs": [
    {
     "name": "stdout",
     "output_type": "stream",
     "text": [
      "y_it:  собачка\n",
      "x_it:  1\n",
      "p:  0.4444444444444444\n",
      "p * np.log2(p) -0.5199666673076944\n",
      "it_e:  -0.5199666673076944\n",
      "x_it:  0\n",
      "p:  0.0\n",
      "sum_e = -0.5199666673076944\n",
      "sum_IG =  -0.05199666673076944\n",
      "y_it:  котик\n",
      "x_it:  1\n",
      "p:  0.5555555555555556\n",
      "p * np.log2(p) -0.4711093925305278\n",
      "it_e:  -0.4711093925305278\n",
      "x_it:  0\n",
      "p:  1.0\n",
      "p * np.log2(p) 0.0\n",
      "it_e:  -0.4711093925305278\n",
      "sum_e = -0.4711093925305278\n",
      "sum_IG =  -0.09910760598382223\n",
      "E =  0.9910760598382222\n",
      "IG =  1.0991076059838223\n"
     ]
    }
   ],
   "source": [
    "calc_entropy(df, x = 'Шерстист', y = 'Вид')"
   ]
  },
  {
   "cell_type": "code",
   "execution_count": 21,
   "metadata": {},
   "outputs": [
    {
     "name": "stdout",
     "output_type": "stream",
     "text": [
      "y_it:  собачка\n",
      "x_it:  1\n",
      "p:  0.8\n",
      "p * np.log2(p) -0.2575424759098898\n",
      "it_e:  -0.2575424759098898\n",
      "x_it:  0\n",
      "p:  0.0\n",
      "sum_e = -0.2575424759098898\n",
      "sum_IG =  -0.1287712379549449\n",
      "y_it:  котик\n",
      "x_it:  1\n",
      "p:  0.2\n",
      "p * np.log2(p) -0.46438561897747244\n",
      "it_e:  -0.46438561897747244\n",
      "x_it:  0\n",
      "p:  1.0\n",
      "p * np.log2(p) 0.0\n",
      "it_e:  -0.46438561897747244\n",
      "sum_e = -0.46438561897747244\n",
      "sum_IG =  -0.36096404744368116\n",
      "E =  0.7219280948873623\n",
      "IG =  1.360964047443681\n"
     ]
    }
   ],
   "source": [
    "calc_entropy(df, x = 'Гавкает', y = 'Вид')"
   ]
  },
  {
   "cell_type": "code",
   "execution_count": 22,
   "metadata": {},
   "outputs": [
    {
     "name": "stdout",
     "output_type": "stream",
     "text": [
      "y_it:  собачка\n",
      "x_it:  0\n",
      "p:  1.0\n",
      "p * np.log2(p) 0.0\n",
      "it_e:  0.0\n",
      "x_it:  1\n",
      "p:  0.0\n",
      "sum_e = 0.0\n",
      "sum_IG =  0.0\n",
      "y_it:  котик\n",
      "x_it:  0\n",
      "p:  0.0\n",
      "x_it:  1\n",
      "p:  1.0\n",
      "p * np.log2(p) 0.0\n",
      "it_e:  0.0\n",
      "sum_e = 0.0\n",
      "sum_IG =  0.0\n",
      "E =  0.0\n",
      "IG =  1.0\n"
     ]
    }
   ],
   "source": [
    "calc_entropy(df, x = 'Лазает_по_деревьям', y = 'Вид')"
   ]
  },
  {
   "cell_type": "code",
   "execution_count": 23,
   "metadata": {
    "collapsed": true
   },
   "outputs": [],
   "source": [
    "x = 'Шерстист'\n",
    "y = 'Вид'\n",
    "tot_cnt = len(df)\n",
    "y_it = 1"
   ]
  },
  {
   "cell_type": "code",
   "execution_count": 24,
   "metadata": {},
   "outputs": [
    {
     "data": {
      "text/plain": [
       "0.9"
      ]
     },
     "execution_count": 24,
     "metadata": {},
     "output_type": "execute_result"
    }
   ],
   "source": [
    "#df[x] == 0\n",
    "#len(df[x])\n",
    "#df.loc[df[x] == y_it]\n",
    "len(df.loc[df[x] == y_it]) / tot_cnt "
   ]
  },
  {
   "cell_type": "code",
   "execution_count": 31,
   "metadata": {
    "collapsed": true
   },
   "outputs": [],
   "source": [
    "import math\n",
    "import numpy as np"
   ]
  },
  {
   "cell_type": "code",
   "execution_count": 26,
   "metadata": {},
   "outputs": [
    {
     "name": "stdout",
     "output_type": "stream",
     "text": [
      "шерстист = 0. E =  0\n",
      "шерстист = 1. E =  0.9910760598382222\n"
     ]
    }
   ],
   "source": [
    "#Энтропия при разделении по фиче Шерстист в группах, где Шерстист равно 0 и 1 соответственно, составляет\n",
    "\n",
    "# шерстист = 0\n",
    "# наблюдений \n",
    "N = 1 \n",
    "n_1 = 1\n",
    "n_2 = 0\n",
    "\n",
    "E = 0\n",
    "#E = - n_1 / N * math.log(n_1 / N, 2) - n_2 / N * math.log(n_2 / N, 2)\n",
    "print('шерстист = 0. E = ', E)\n",
    "\n",
    "# шерстист = 1\n",
    "# наблюдений \n",
    "N = 9\n",
    "n_1 = 4\n",
    "n_2 = 5\n",
    "\n",
    "E = - n_1 / N * math.log(n_1 / N, 2) - n_2 / N * math.log(n_2 / N, 2)\n",
    "print('шерстист = 1. E = ', E)"
   ]
  },
  {
   "cell_type": "code",
   "execution_count": 44,
   "metadata": {},
   "outputs": [
    {
     "name": "stdout",
     "output_type": "stream",
     "text": [
      "Гавкает = 0. E =  0\n",
      "Гавкает = 1. E =  0.7219280948873623\n"
     ]
    }
   ],
   "source": [
    "#Энтропия при разделении по фиче Гавкает в группах, где Гавкает равно 0 и 1 соответственно, составляет\n",
    "# Гавкает = 0\n",
    "# наблюдений \n",
    "N = 5 \n",
    "n_1 = 0\n",
    "n_2 = 5\n",
    "\n",
    "E = 0\n",
    "#E = - n_1 / N * math.log(n_1 / N, 2) - n_2 / N * math.log(n_2 / N, 2)\n",
    "print('Гавкает = 0. E = ', E)\n",
    "\n",
    "# Гавкает = 1\n",
    "# наблюдений \n",
    "N = 5\n",
    "n_1 = 4\n",
    "n_2 = 1\n",
    "\n",
    "E = - n_1 / N * math.log(n_1 / N, 2) - n_2 / N * math.log(n_2 / N, 2)\n",
    "print('Гавкает = 1. E = ', E)\n"
   ]
  },
  {
   "cell_type": "code",
   "execution_count": 29,
   "metadata": {},
   "outputs": [
    {
     "ename": "ValueError",
     "evalue": "math domain error",
     "output_type": "error",
     "traceback": [
      "\u001b[1;31m---------------------------------------------------------------------------\u001b[0m",
      "\u001b[1;31mValueError\u001b[0m                                Traceback (most recent call last)",
      "\u001b[1;32m<ipython-input-29-ec4199fe66ee>\u001b[0m in \u001b[0;36m<module>\u001b[1;34m\u001b[0m\n\u001b[0;32m      7\u001b[0m \u001b[1;33m\u001b[0m\u001b[0m\n\u001b[0;32m      8\u001b[0m \u001b[0mE\u001b[0m \u001b[1;33m=\u001b[0m \u001b[1;36m0\u001b[0m\u001b[1;33m\u001b[0m\u001b[1;33m\u001b[0m\u001b[0m\n\u001b[1;32m----> 9\u001b[1;33m \u001b[0mE\u001b[0m \u001b[1;33m=\u001b[0m \u001b[1;33m-\u001b[0m \u001b[0mn_1\u001b[0m \u001b[1;33m/\u001b[0m \u001b[0mN\u001b[0m \u001b[1;33m*\u001b[0m \u001b[0mmath\u001b[0m\u001b[1;33m.\u001b[0m\u001b[0mlog\u001b[0m\u001b[1;33m(\u001b[0m\u001b[0mn_1\u001b[0m \u001b[1;33m/\u001b[0m \u001b[0mN\u001b[0m\u001b[1;33m,\u001b[0m \u001b[1;36m2\u001b[0m\u001b[1;33m)\u001b[0m \u001b[1;33m-\u001b[0m \u001b[0mn_2\u001b[0m \u001b[1;33m/\u001b[0m \u001b[0mN\u001b[0m \u001b[1;33m*\u001b[0m \u001b[0mmath\u001b[0m\u001b[1;33m.\u001b[0m\u001b[0mlog\u001b[0m\u001b[1;33m(\u001b[0m\u001b[0mn_2\u001b[0m \u001b[1;33m/\u001b[0m \u001b[0mN\u001b[0m\u001b[1;33m,\u001b[0m \u001b[1;36m2\u001b[0m\u001b[1;33m)\u001b[0m\u001b[1;33m\u001b[0m\u001b[1;33m\u001b[0m\u001b[0m\n\u001b[0m\u001b[0;32m     10\u001b[0m \u001b[0mprint\u001b[0m\u001b[1;33m(\u001b[0m\u001b[1;34m'Лазает по деревьям = 0. E = '\u001b[0m\u001b[1;33m,\u001b[0m \u001b[0mE\u001b[0m\u001b[1;33m)\u001b[0m\u001b[1;33m\u001b[0m\u001b[1;33m\u001b[0m\u001b[0m\n\u001b[0;32m     11\u001b[0m \u001b[1;33m\u001b[0m\u001b[0m\n",
      "\u001b[1;31mValueError\u001b[0m: math domain error"
     ]
    }
   ],
   "source": [
    "# Энтропия при разделении по фиче Лазает по деревьям в группах, где эта фича равна 0 и 1 соответственно, составляе\n",
    "# Лазает по деревьям = 0\n",
    "# наблюдений \n",
    "N = 4 \n",
    "n_1 = 0\n",
    "n_2 = 4\n",
    "\n",
    "E = 0\n",
    "E = - n_1 / N * math.log(n_1 / N, 2) - n_2 / N * math.log(n_2 / N, 2)\n",
    "print('Лазает по деревьям = 0. E = ', E)\n",
    "\n",
    "# Лазает по деревьям = 1\n",
    "# наблюдений \n",
    "N = 6\n",
    "n_1 = 6\n",
    "n_2 = 0\n",
    "\n",
    "E = - n_1 / N * math.log(n_1 / N, 2) - n_2 / N * math.log(n_2 / N, 2)\n",
    "print('Лазает по деревьям = 1. E = ', E)\n",
    "\n",
    "#----\n",
    "import numpy as np\n",
    "np.log2(x)\n",
    "\n",
    "import math\n",
    "math(x, 2)\n",
    "\n",
    "#Одна кошка гавкает"
   ]
  },
  {
   "cell_type": "code",
   "execution_count": null,
   "metadata": {
    "collapsed": true
   },
   "outputs": [],
   "source": []
  },
  {
   "cell_type": "code",
   "execution_count": null,
   "metadata": {
    "collapsed": true
   },
   "outputs": [],
   "source": []
  },
  {
   "cell_type": "markdown",
   "metadata": {},
   "source": [
    "#### 2.2.8\n",
    "\n",
    "Ещё немного арифметики - посчитаем Information Gain по данным из предыдущего задания. Впишите через пробел округлённые до 2-ого знака значения IG для фичей Шерстист, Гавкает и Лазает по деревьям. Десятичным разделителем в данном задании является точка.\n",
    "\n",
    "По какой переменной нужно делать сплит, исходя из всего этого (не вводите ответ на этот вопрос в поле, просто подумайте)\n"
   ]
  },
  {
   "cell_type": "code",
   "execution_count": 37,
   "metadata": {},
   "outputs": [
    {
     "name": "stdout",
     "output_type": "stream",
     "text": [
      "E_Y:  0.9709505944546686\n"
     ]
    }
   ],
   "source": [
    "E_Y = -0.4 * np.log2(0.4) -0.6 * np.log2(0.6)\n",
    "print('E_Y: ', E_Y)"
   ]
  },
  {
   "cell_type": "code",
   "execution_count": null,
   "metadata": {
    "collapsed": true
   },
   "outputs": [],
   "source": [
    "1.1 1.36 0.97"
   ]
  },
  {
   "cell_type": "code",
   "execution_count": 47,
   "metadata": {},
   "outputs": [
    {
     "name": "stdout",
     "output_type": "stream",
     "text": [
      "E_Y:  0.9709505944546686\n",
      "Шерстист  0.07898214060026854\n",
      "Гавкает  0.6099865470109874\n",
      "Лазит по деревьям  0.9709505944546686\n"
     ]
    }
   ],
   "source": [
    "print('E_Y: ', E_Y)\n",
    "\n",
    "# Шерстист\n",
    "print('Шерстист ', E_Y - (0.9910760598382222 * 0.9))\n",
    "\n",
    "# Гавкает\n",
    "print('Гавкает ', E_Y - (0.7219280948873623 * 0.5))\n",
    "\n",
    "# Лазит по деревьям\n",
    "print('Лазит по деревьям ', E_Y - 0)"
   ]
  },
  {
   "cell_type": "code",
   "execution_count": null,
   "metadata": {
    "collapsed": true
   },
   "outputs": [],
   "source": []
  },
  {
   "cell_type": "markdown",
   "metadata": {},
   "source": [
    "### 2.3 Titanic: Machine Learning from Disaster\n"
   ]
  },
  {
   "cell_type": "code",
   "execution_count": 1,
   "metadata": {},
   "outputs": [
    {
     "name": "stdout",
     "output_type": "stream",
     "text": [
      "test\n"
     ]
    }
   ],
   "source": [
    "print('test')"
   ]
  },
  {
   "cell_type": "code",
   "execution_count": 2,
   "metadata": {
    "collapsed": true
   },
   "outputs": [],
   "source": [
    "from sklearn import tree\n",
    "import pandas as pd\n",
    "import matplotlib.pyplot as plt\n",
    "import seaborn as sns\n",
    "%matplotlib inline"
   ]
  },
  {
   "cell_type": "code",
   "execution_count": 3,
   "metadata": {},
   "outputs": [
    {
     "ename": "ModuleNotFoundError",
     "evalue": "No module named 'graphviz'",
     "output_type": "error",
     "traceback": [
      "\u001b[1;31m---------------------------------------------------------------------------\u001b[0m",
      "\u001b[1;31mModuleNotFoundError\u001b[0m                       Traceback (most recent call last)",
      "\u001b[1;32m<ipython-input-3-9fefe888d86a>\u001b[0m in \u001b[0;36m<module>\u001b[1;34m()\u001b[0m\n\u001b[0;32m      1\u001b[0m \u001b[1;32mfrom\u001b[0m \u001b[0mIPython\u001b[0m\u001b[1;33m.\u001b[0m\u001b[0mdisplay\u001b[0m \u001b[1;32mimport\u001b[0m \u001b[0mSVG\u001b[0m\u001b[1;33m\u001b[0m\u001b[0m\n\u001b[1;32m----> 2\u001b[1;33m \u001b[1;32mfrom\u001b[0m \u001b[0mgraphviz\u001b[0m \u001b[1;32mimport\u001b[0m \u001b[0mSource\u001b[0m\u001b[1;33m\u001b[0m\u001b[0m\n\u001b[0m\u001b[0;32m      3\u001b[0m \u001b[1;32mfrom\u001b[0m \u001b[0mIPython\u001b[0m\u001b[1;33m.\u001b[0m\u001b[0mdisplay\u001b[0m \u001b[1;32mimport\u001b[0m \u001b[0mdisplay\u001b[0m\u001b[1;33m\u001b[0m\u001b[0m\n",
      "\u001b[1;31mModuleNotFoundError\u001b[0m: No module named 'graphviz'"
     ]
    }
   ],
   "source": [
    "from IPython.display import SVG\n",
    "from graphviz import Source\n",
    "from IPython.display import display"
   ]
  },
  {
   "cell_type": "code",
   "execution_count": null,
   "metadata": {
    "collapsed": true
   },
   "outputs": [],
   "source": []
  },
  {
   "cell_type": "code",
   "execution_count": null,
   "metadata": {
    "collapsed": true
   },
   "outputs": [],
   "source": [
    "from IPython.display import HTML\n",
    "style = \"<style>svg{width:70% !important; height:70% !important;}</style>\"\n",
    "HTML(style)"
   ]
  },
  {
   "cell_type": "code",
   "execution_count": null,
   "metadata": {
    "collapsed": true
   },
   "outputs": [],
   "source": [
    "url_tit = r'g:\\work\\!data\\kaggle_titanic\\train.csv'"
   ]
  },
  {
   "cell_type": "code",
   "execution_count": null,
   "metadata": {
    "collapsed": true
   },
   "outputs": [],
   "source": [
    "titanic_data = pd.read_csv(url_tit)"
   ]
  },
  {
   "cell_type": "code",
   "execution_count": null,
   "metadata": {
    "collapsed": true
   },
   "outputs": [],
   "source": []
  },
  {
   "cell_type": "code",
   "execution_count": null,
   "metadata": {
    "collapsed": true
   },
   "outputs": [],
   "source": []
  },
  {
   "cell_type": "code",
   "execution_count": null,
   "metadata": {
    "collapsed": true
   },
   "outputs": [],
   "source": []
  },
  {
   "cell_type": "code",
   "execution_count": null,
   "metadata": {
    "collapsed": true
   },
   "outputs": [],
   "source": []
  }
 ],
 "metadata": {
  "kernelspec": {
   "display_name": "Python 3",
   "language": "python",
   "name": "python3"
  },
  "language_info": {
   "codemirror_mode": {
    "name": "ipython",
    "version": 3
   },
   "file_extension": ".py",
   "mimetype": "text/x-python",
   "name": "python",
   "nbconvert_exporter": "python",
   "pygments_lexer": "ipython3",
   "version": "3.6.3"
  }
 },
 "nbformat": 4,
 "nbformat_minor": 2
}
